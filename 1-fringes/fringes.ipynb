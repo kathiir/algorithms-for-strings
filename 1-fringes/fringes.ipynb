{
 "cells": [
  {
   "cell_type": "markdown",
   "metadata": {
    "pycharm": {
     "name": "#%% md\n"
    }
   },
   "source": [
    "# Грани\n",
    "\n",
    "Определение. Грань строки – любой собственный префикс,\n",
    "равный суффиксу.\n",
    "\n",
    "- «Собственный» исключает грань, совпадающую со всей строкой\n",
    "- Любая непустая строка имеет пустую грань (длины 0)\n",
    "- Пример: строка ABAABABAABAAB содержит непустые грани: AB и\n",
    "ABAAB\n",
    "\n",
    "Свойства граней:\n",
    "1) bp[0] = 0 (строка длины 1 имеет лишь собственную подстроку ε).\n",
    "2) Если S[0..i] (0 < i < n) имеет грань k > 0, то S[0..i−1] имеет грань k −1.\n",
    "Таким образом, bp[i] ≤ bp[i-1] + 1.\n",
    "3) bp[i] = bp[i-1] + 1 ⟺ S[i] = S[bp[i-1]] (bp[i-1] – позиция справа от\n",
    "префикса S[0..bp[i-1]-1] – наибольшей грани подстроки S[0..i-1]).\n",
    "4) Если b – грань S, а b′ – грань b, то b′ есть грань S. Отсюда bp[bp[i]-1] –\n",
    "длина второй по величине грани строки S[0..i] и т.д. Эта строго\n",
    "убывающая последовательность заканчивается нулем."
   ]
  },
  {
   "cell_type": "code",
   "execution_count": 1,
   "metadata": {
    "pycharm": {
     "name": "#%%\n"
    }
   },
   "outputs": [],
   "source": [
    "from borders import *"
   ]
  },
  {
   "cell_type": "markdown",
   "metadata": {
    "pycharm": {
     "name": "#%% md\n"
    }
   },
   "source": [
    "## Сложность вычисления массива граней\n",
    "\n",
    "- Цикл for повторяется ровно n – 1 раз, что при отсутствии\n",
    "вложенных циклов составило бы ϴ(n)\n",
    "- Вложенный цикл while обещает квадратичную сложность, однако\n",
    "целесообразно оценить его общее количество выполнений\n",
    "- Переменная bpRight принимает неотрицательные значения и\n",
    "начинает с нуля. Увеличивается на ≤ 1 на каждом шаге for,\n",
    "начиная со 2-го\n",
    "- Каждый шаг while уменьшает значение bpRight на ≥1\n",
    "- Общее число уменьшений (шагов цикла while за все время) ≤\n",
    "общего числа увеличений, то есть n – 2, что дает O(n)\n",
    "- Таким образом, вычислительная сложность рассматриваемого\n",
    "алгоритма равна ϴ(n)"
   ]
  },
  {
   "cell_type": "markdown",
   "metadata": {
    "pycharm": {
     "name": "#%% md\n"
    }
   },
   "source": [
    "## Префиксы\n",
    "\n",
    "Массив bp[0..n-1] для строки S содержит длины наибольших граней\n",
    "всех ее подстрок S[0..i], i = 0, 1, …, n-1, то есть префиксов («префикс-функция») S."
   ]
  },
  {
   "cell_type": "code",
   "execution_count": 2,
   "metadata": {
    "pycharm": {
     "name": "#%%\n"
    }
   },
   "outputs": [
    {
     "name": "stdout",
     "output_type": "stream",
     "text": [
      "[0, 0, 1, 1, 2, 3, 2, 3, 4, 5, 6, 4, 5]\n",
      "[0, 0, 1, 0, 0, 3, 0, 1, 0, 0, 6, 0, 5]\n"
     ]
    }
   ],
   "source": [
    "bp = prefix_border_array(\"ABAABABAABAAB\")\n",
    "bp_mod = prefix_border_array_mod(\"ABAABABAABAAB\", bp)\n",
    "print(bp)\n",
    "print(bp_mod)"
   ]
  },
  {
   "cell_type": "markdown",
   "metadata": {
    "pycharm": {
     "name": "#%% md\n"
    }
   },
   "source": [
    "## Суффиксы"
   ]
  },
  {
   "cell_type": "code",
   "execution_count": 3,
   "metadata": {
    "pycharm": {
     "name": "#%%\n"
    }
   },
   "outputs": [
    {
     "name": "stdout",
     "output_type": "stream",
     "text": [
      "[5, 4, 3, 2, 1, 5, 4, 3, 2, 1, 0, 0, 0]\n",
      "[5, 0, 0, 0, 0, 5, 0, 0, 0, 0, 0, 0, 0]\n"
     ]
    }
   ],
   "source": [
    "bs = suffix_border_array(\"ABAABABAABAAB\")\n",
    "bs_mod = bs_to_bsm(bs, len(bs))\n",
    "print(bs)\n",
    "print(bs_mod)"
   ]
  }
 ],
 "metadata": {
  "kernelspec": {
   "display_name": "Python 3 (ipykernel)",
   "language": "python",
   "name": "python3"
  },
  "language_info": {
   "codemirror_mode": {
    "name": "ipython",
    "version": 3
   },
   "file_extension": ".py",
   "mimetype": "text/x-python",
   "name": "python",
   "nbconvert_exporter": "python",
   "pygments_lexer": "ipython3",
   "version": "3.10.4"
  }
 },
 "nbformat": 4,
 "nbformat_minor": 1
}
