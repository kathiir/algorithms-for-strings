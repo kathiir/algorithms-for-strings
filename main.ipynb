{
 "cells": [
  {
   "cell_type": "markdown",
   "source": [
    "# Алгоритмы на строках\n",
    "\n",
    "1. [Грани](1-fringes/fringes.ipynb)\n",
    "2. [Z-блоки](2-z-blocks/zblocks.ipynb)\n",
    "3. [Алгоритм Кнута-Морриса-Пратта](3-kmp/kmp.ipynb)\n",
    "4. [Алгоритм Бойера-Мура](4-boier-moore/bm.ipynb)\n",
    "5. [Алгоритм Карпа-Рабина](5-karp-rabin/kr.ipynb)\n",
    "6. [Алгоритм Shift-And](6-shift-end/se.ipynb)\n",
    "7. [Суффиксные деревья](7-suffix/suffix.ipynb)"
   ],
   "metadata": {
    "collapsed": false,
    "pycharm": {
     "name": "#%% md\n"
    }
   }
  }
 ],
 "metadata": {
  "kernelspec": {
   "display_name": "Python 3",
   "language": "python",
   "name": "python3"
  },
  "language_info": {
   "codemirror_mode": {
    "name": "ipython",
    "version": 2
   },
   "file_extension": ".py",
   "mimetype": "text/x-python",
   "name": "python",
   "nbconvert_exporter": "python",
   "pygments_lexer": "ipython2",
   "version": "2.7.6"
  }
 },
 "nbformat": 4,
 "nbformat_minor": 0
}